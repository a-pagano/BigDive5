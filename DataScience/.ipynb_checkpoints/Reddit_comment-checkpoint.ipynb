{
 "cells": [
  {
   "cell_type": "code",
   "execution_count": 1,
   "metadata": {
    "collapsed": false
   },
   "outputs": [
    {
     "data": {
      "text/plain": [
       "<pyspark.context.SparkContext at 0x10a32b390>"
      ]
     },
     "execution_count": 1,
     "metadata": {},
     "output_type": "execute_result"
    }
   ],
   "source": [
    "sc"
   ]
  },
  {
   "cell_type": "code",
   "execution_count": 3,
   "metadata": {
    "collapsed": true
   },
   "outputs": [],
   "source": [
    "docs = sc.textFile('/Users/adrianopagano/Desktop/Big_Dive/BigDive5/Data/reddit_2014-12-10k.json')"
   ]
  },
  {
   "cell_type": "code",
   "execution_count": 4,
   "metadata": {
    "collapsed": false
   },
   "outputs": [
    {
     "data": {
      "text/plain": [
       "[u'{\"created_utc\":\"1417392000\",\"subreddit_id\":\"t5_2r9po\",\"link_id\":\"t3_2nvxfv\",\"id\":\"cmhems8\",\"author\":\"eror11\",\"score_hidden\":false,\"body\":\"Is he the joey? \",\"edited\":false,\"archived\":false,\"name\":\"t1_cmhems8\",\"retrieved_on\":1425748675,\"author_flair_css_class\":null,\"ups\":3,\"controversiality\":0,\"score\":3,\"subreddit\":\"Guildwars2\",\"author_flair_text\":null,\"parent_id\":\"t1_cmhe1zw\",\"distinguished\":null,\"gilded\":0,\"downs\":0}']"
      ]
     },
     "execution_count": 4,
     "metadata": {},
     "output_type": "execute_result"
    }
   ],
   "source": [
    "docs.take(1)"
   ]
  },
  {
   "cell_type": "code",
   "execution_count": 5,
   "metadata": {
    "collapsed": true
   },
   "outputs": [],
   "source": [
    "import json"
   ]
  },
  {
   "cell_type": "code",
   "execution_count": 53,
   "metadata": {
    "collapsed": false
   },
   "outputs": [
    {
     "data": {
      "text/plain": [
       "[u'Is he the joey? ', u\"yes\\nmessage me again when you're online\\n\"]"
      ]
     },
     "execution_count": 53,
     "metadata": {},
     "output_type": "execute_result"
    }
   ],
   "source": [
    "docs.map(json.loads).map(lambda x: x['body']).take(2)"
   ]
  },
  {
   "cell_type": "code",
   "execution_count": 7,
   "metadata": {
    "collapsed": true
   },
   "outputs": [],
   "source": [
    "import re\n",
    "\n",
    "pattern = '(?u)\\\\b[A-Za-z]{3,}'"
   ]
  },
  {
   "cell_type": "code",
   "execution_count": 8,
   "metadata": {
    "collapsed": false
   },
   "outputs": [
    {
     "data": {
      "text/plain": [
       "[(9874, u'the'),\n",
       " (5354, u'and'),\n",
       " (4449, u'you'),\n",
       " (3843, u'that'),\n",
       " (2478, u'for'),\n",
       " (1865, u'this'),\n",
       " (1783, u'have'),\n",
       " (1756, u'but'),\n",
       " (1721, u'with'),\n",
       " (1592, u'not')]"
      ]
     },
     "execution_count": 8,
     "metadata": {},
     "output_type": "execute_result"
    }
   ],
   "source": [
    "docs.map(json.loads)\\\n",
    "    .map(lambda x: x['body']) \\\n",
    "    .flatMap(lambda x: re.findall(pattern, x))\\\n",
    "    .map(lambda x: (x.lower(), 1))\\\n",
    "    .reduceByKey(lambda x,y: x+y)\\\n",
    "    .map(lambda (a, b): (b, a))\\\n",
    "    .sortByKey(ascending=False)\\\n",
    "    .take(10)"
   ]
  },
  {
   "cell_type": "code",
   "execution_count": 40,
   "metadata": {
    "collapsed": false
   },
   "outputs": [
    {
     "name": "stdout",
     "output_type": "stream",
     "text": [
      "[u'HistoryPorn', u'EverythingScience', u'askscience', u'CanadaPolitics', u'worldpolitics', u'ukpolitics', u'shittyaskscience', u'badpolitics', u'scienceofdeduction', u'politics', u'askphilosophy', u'science', u'history', u'AskScienceFiction', u'fuckingphilosophy', u'philosophy', u'gunpolitics', u'AskSocialScience'] [u'sadcomics', u'comiccodes', u'comicbooks', u'terriblefacebookmemes', u'DCcomics', u'MetalMemes', u'NSFWFunny', u'comicbookmovies', u'IncestComics', u'funnycharts', u'funny', u'MemesIRL', u'Afwcomics', u'FunnyandSad']\n",
      "Number of serious subreddits:18\n",
      "Number of funny subreddits :14\n"
     ]
    }
   ],
   "source": [
    "total_subreddit = set(docs.map(json.loads).map(lambda x: x['subreddit']).collect())\n",
    "topics_serious = ['philosophy', 'history', 'politics', 'science']\n",
    "topics_funny = ['funny', 'memes', 'humour', 'comic']\n",
    "subreddit_serious= []\n",
    "subreddit_funny= []\n",
    "for sub in total_subreddit:\n",
    "    for i, topic in enumerate(topics_serious):\n",
    "        if topic in sub or topic.upper() in sub.upper():\n",
    "            subreddit_serious.append(sub)\n",
    "    for i, topic in enumerate(topics_funny):\n",
    "        if topic in sub or topic.upper() in sub.upper():\n",
    "            subreddit_funny.append(sub)\n",
    "print subreddit_serious, subreddit_funny\n",
    "print 'Number of serious subreddits: ' + str(len(subreddit_serious))\n",
    "print 'Number of funny subreddits :' +str(len(subreddit_funny))"
   ]
  },
  {
   "cell_type": "code",
   "execution_count": 11,
   "metadata": {
    "collapsed": false
   },
   "outputs": [
    {
     "name": "stdout",
     "output_type": "stream",
     "text": [
      "Populating the interactive namespace from numpy and matplotlib\n"
     ]
    }
   ],
   "source": [
    "%pylab inline"
   ]
  },
  {
   "cell_type": "code",
   "execution_count": 52,
   "metadata": {
    "collapsed": false
   },
   "outputs": [
    {
     "name": "stdout",
     "output_type": "stream",
     "text": [
      "Populating the interactive namespace from numpy and matplotlib\n"
     ]
    },
    {
     "data": {
      "text/plain": [
       "(0, 25)"
      ]
     },
     "execution_count": 52,
     "metadata": {},
     "output_type": "execute_result"
    },
    {
     "data": {
      "image/png": "[encoded data removed]",
      "text/plain": [
       "<matplotlib.figure.Figure at 0x1101c59d0>"
      ]
     },
     "metadata": {},
     "output_type": "display_data"
    }
   ],
   "source": [
    "%pylab inline\n",
    "import matplotlib.pyplot as plt\n",
    "import seaborn\n",
    "\n",
    "num_serious = docs.map(json.loads)\\\n",
    "    .filter(lambda x: x['subreddit'] in subreddit_serious) \\\n",
    "    .map(lambda x: (x['subreddit'], 1)) \\\n",
    "    .groupByKey() \\\n",
    "    .map(lambda pair: len(pair[0]))\\\n",
    "    .collect()\n",
    "\n",
    "num_funny = docs.map(json.loads)\\\n",
    "    .filter(lambda x: x['subreddit'] in subreddit_funny) \\\n",
    "    .map(lambda x: (x['subreddit'], 1)) \\\n",
    "    .groupByKey() \\\n",
    "    .map(lambda pair: len(pair[0]))\\\n",
    "    .collect()\n",
    "\n",
    "fig, ax = plt.subplots(1,2)\n",
    "ax[0].bar(range(len(num_serious)), sorted(num_serious))\n",
    "ax[1].bar(range(len(num_funny)), sorted(num_funny))\n",
    "ax[0].set_xlabel('Serious subreddit')\n",
    "ax[1].set_xlabel('Funny subreddit')\n",
    "ax[0].set_ylabel('Comments')\n",
    "ax[0].set_ylim([0,25])"
   ]
  },
  {
   "cell_type": "code",
   "execution_count": null,
   "metadata": {
    "collapsed": false
   },
   "outputs": [],
   "source": []
  },
  {
   "cell_type": "code",
   "execution_count": null,
   "metadata": {
    "collapsed": true
   },
   "outputs": [],
   "source": []
  }
 ],
 "metadata": {
  "kernelspec": {
   "display_name": "Python 2",
   "language": "python",
   "name": "python2"
  }
 },
 "nbformat": 4,
 "nbformat_minor": 0
}
