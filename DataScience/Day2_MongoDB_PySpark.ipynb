{
 "cells": [
  {
   "cell_type": "code",
   "execution_count": 12,
   "metadata": {
    "collapsed": false
   },
   "outputs": [],
   "source": [
    "from pymongo import MongoClient\n",
    "client = MongoClient('mongodb://localhost:27017/')"
   ]
  },
  {
   "cell_type": "code",
   "execution_count": 13,
   "metadata": {
    "collapsed": false
   },
   "outputs": [
    {
     "data": {
      "text/plain": [
       "[u'people']"
      ]
     },
     "execution_count": 13,
     "metadata": {},
     "output_type": "execute_result"
    }
   ],
   "source": [
    "client.phonebook.collection_names()"
   ]
  },
  {
   "cell_type": "code",
   "execution_count": 14,
   "metadata": {
    "collapsed": false
   },
   "outputs": [],
   "source": [
    "db = client.phonebook"
   ]
  },
  {
   "cell_type": "code",
   "execution_count": 15,
   "metadata": {
    "collapsed": false
   },
   "outputs": [],
   "source": [
    "col = db.people"
   ]
  },
  {
   "cell_type": "code",
   "execution_count": 22,
   "metadata": {
    "collapsed": false,
    "scrolled": true
   },
   "outputs": [
    {
     "name": "stderr",
     "output_type": "stream",
     "text": [
      "/Users/adrianopagano/Desktop/Big_Dive/BigDive5/DataScience/PythonDataScience/lib/python2.7/site-packages/ipykernel/__main__.py:1: DeprecationWarning: insert is deprecated. Use insert_one or insert_many instead.\n",
      "  if __name__ == '__main__':\n"
     ]
    },
    {
     "data": {
      "text/plain": [
       "ObjectId('575fc3369d1fa214962baad3')"
      ]
     },
     "execution_count": 22,
     "metadata": {},
     "output_type": "execute_result"
    }
   ],
   "source": [
    "col.insert({'name': 'Alessandro', 'phone': '+39333333'})"
   ]
  },
  {
   "cell_type": "code",
   "execution_count": 24,
   "metadata": {
    "collapsed": false
   },
   "outputs": [
    {
     "data": {
      "text/plain": [
       "datetime.datetime(2016, 6, 14, 8, 41, 26, tzinfo=<bson.tz_util.FixedOffset object at 0x103650750>)"
      ]
     },
     "execution_count": 24,
     "metadata": {},
     "output_type": "execute_result"
    }
   ],
   "source": [
    "import bson\n",
    "bson.ObjectId('575fc3369d1fa214962baad3').generation_time"
   ]
  },
  {
   "cell_type": "code",
   "execution_count": 28,
   "metadata": {
    "collapsed": false
   },
   "outputs": [
    {
     "data": {
      "text/plain": [
       "ObjectId('575fcec29d1fa214962baad8')"
      ]
     },
     "execution_count": 28,
     "metadata": {},
     "output_type": "execute_result"
    }
   ],
   "source": [
    "bson.ObjectId() #this creates a new bson object everytime it is executed"
   ]
  },
  {
   "cell_type": "code",
   "execution_count": 30,
   "metadata": {
    "collapsed": false
   },
   "outputs": [
    {
     "name": "stderr",
     "output_type": "stream",
     "text": [
      "/Users/adrianopagano/Desktop/Big_Dive/BigDive5/DataScience/PythonDataScience/lib/python2.7/site-packages/ipykernel/__main__.py:1: DeprecationWarning: insert is deprecated. Use insert_one or insert_many instead.\n",
      "  if __name__ == '__main__':\n"
     ]
    },
    {
     "data": {
      "text/plain": [
       "ObjectId('575fd0ee9d1fa214962baada')"
      ]
     },
     "execution_count": 30,
     "metadata": {},
     "output_type": "execute_result"
    }
   ],
   "source": [
    "col.insert({'name': 'someoneelese', 'phone': '+34434345', 'phone2': '+232456'}, w=0, j=False) #this document has a different format from the first one (one more field)"
   ]
  },
  {
   "cell_type": "markdown",
   "metadata": {},
   "source": [
    "### As mongoDB is distributed, you need to specify on which node you want the document to be replicated. This is usually not a problem since you often read/write from a single node. The 'w' parameter controls this. w=0 just specifies that you want the data written as fast as possible on the node you are connected to without any confirmation to the user (for importing large dataset). This node then replicates the data around the cluster. The j parameter is to specify to backup the transaction or not to the journal (False makes it faster but less safe)"
   ]
  },
  {
   "cell_type": "code",
   "execution_count": 32,
   "metadata": {
    "collapsed": false
   },
   "outputs": [
    {
     "data": {
      "text/plain": [
       "{u'_id': ObjectId('575fc1cf9d1fa214962baad0'),\n",
       " u'name': u'Alessandro',\n",
       " u'phone': u'+39333333'}"
      ]
     },
     "execution_count": 32,
     "metadata": {},
     "output_type": "execute_result"
    }
   ],
   "source": [
    "col.find_one({'name': 'Alessandro'}) #find first value equality"
   ]
  },
  {
   "cell_type": "code",
   "execution_count": 34,
   "metadata": {
    "collapsed": false
   },
   "outputs": [
    {
     "data": {
      "text/plain": [
       "[{u'_id': ObjectId('575fc1cf9d1fa214962baad0'),\n",
       "  u'name': u'Alessandro',\n",
       "  u'phone': u'+39333333'},\n",
       " {u'_id': ObjectId('575fc1e09d1fa214962baad1'),\n",
       "  u'name': u'Alessandro',\n",
       "  u'phone': u'+39333333'},\n",
       " {u'_id': ObjectId('575fc32b9d1fa214962baad2'),\n",
       "  u'name': u'Alessandro',\n",
       "  u'phone': u'+39333333'},\n",
       " {u'_id': ObjectId('575fc3369d1fa214962baad3'),\n",
       "  u'name': u'Alessandro',\n",
       "  u'phone': u'+39333333'}]"
      ]
     },
     "execution_count": 34,
     "metadata": {},
     "output_type": "execute_result"
    }
   ],
   "source": [
    "list(col.find({'name': 'Alessandro'})) #find all value equality"
   ]
  },
  {
   "cell_type": "code",
   "execution_count": 42,
   "metadata": {
    "collapsed": false
   },
   "outputs": [],
   "source": [
    "cursor = col.find({'name': 'Alessandro'}) #can also use it as a generator"
   ]
  },
  {
   "cell_type": "code",
   "execution_count": 44,
   "metadata": {
    "collapsed": false
   },
   "outputs": [
    {
     "data": {
      "text/plain": [
       "{u'_id': ObjectId('575fc1e09d1fa214962baad1'),\n",
       " u'name': u'Alessandro',\n",
       " u'phone': u'+39333333'}"
      ]
     },
     "execution_count": 44,
     "metadata": {},
     "output_type": "execute_result"
    }
   ],
   "source": [
    "cursor.next()"
   ]
  },
  {
   "cell_type": "code",
   "execution_count": 46,
   "metadata": {
    "collapsed": false
   },
   "outputs": [
    {
     "data": {
      "text/plain": [
       "{u'_id': ObjectId('575fc1cf9d1fa214962baad0'), u'phone': u'+39333333'}"
      ]
     },
     "execution_count": 46,
     "metadata": {},
     "output_type": "execute_result"
    }
   ],
   "source": [
    "col.find_one({'name': 'Alessandro'}, {'phone': True}) #this is a projection"
   ]
  },
  {
   "cell_type": "code",
   "execution_count": 50,
   "metadata": {
    "collapsed": false
   },
   "outputs": [
    {
     "name": "stderr",
     "output_type": "stream",
     "text": [
      "/Users/adrianopagano/Desktop/Big_Dive/BigDive5/DataScience/PythonDataScience/lib/python2.7/site-packages/ipykernel/__main__.py:1: DeprecationWarning: remove is deprecated. Use delete_one or delete_many instead.\n",
      "  if __name__ == '__main__':\n"
     ]
    },
    {
     "data": {
      "text/plain": [
       "[{u'_id': ObjectId('575fd53c9d1fa214962baae1'),\n",
       "  u'name': u'Alessandro',\n",
       "  u'phone': u'1'},\n",
       " {u'_id': ObjectId('575fd53c9d1fa214962baae2'),\n",
       "  u'name': u'Alessandro',\n",
       "  u'phone': u'2'},\n",
       " {u'_id': ObjectId('575fd53c9d1fa214962baae3'),\n",
       "  u'name': u'Alessandro',\n",
       "  u'phone': u'3'}]"
      ]
     },
     "execution_count": 50,
     "metadata": {},
     "output_type": "execute_result"
    }
   ],
   "source": [
    "col.remove({'name': 'Alessandro'})\n",
    "col.insert_one({'name': 'Alessandro', 'phone': '1'})\n",
    "col.insert_one({'name': 'Alessandro', 'phone': '2'})\n",
    "col.insert_one({'name': 'Alessandro', 'phone': '3'})\n",
    "\n",
    "list(col.find({'name': 'Alessandro'}))\n",
    "\n",
    "#remove all entries Alessandro and add 3 noew ones with different phone number\n",
    "\n"
   ]
  },
  {
   "cell_type": "code",
   "execution_count": 53,
   "metadata": {
    "collapsed": false
   },
   "outputs": [
    {
     "data": {
      "text/plain": [
       "{u'_id': ObjectId('575fd53c9d1fa214962baae2'),\n",
       " u'name': u'Alessandro',\n",
       " u'phone': u'2'}"
      ]
     },
     "execution_count": 53,
     "metadata": {},
     "output_type": "execute_result"
    }
   ],
   "source": [
    "col.find_one({'_id': {'$gt': bson.ObjectId('575fd53c9d1fa214962baae1')}}) #retrieve first entries with number higher than ObjectID of the first entry"
   ]
  },
  {
   "cell_type": "code",
   "execution_count": 54,
   "metadata": {
    "collapsed": false
   },
   "outputs": [
    {
     "data": {
      "text/plain": [
       "[]"
      ]
     },
     "execution_count": 54,
     "metadata": {},
     "output_type": "execute_result"
    }
   ],
   "source": [
    "list(col.find({'name': {'$regex': '^O'}}))"
   ]
  },
  {
   "cell_type": "code",
   "execution_count": 55,
   "metadata": {
    "collapsed": false
   },
   "outputs": [
    {
     "name": "stderr",
     "output_type": "stream",
     "text": [
      "/Users/adrianopagano/Desktop/Big_Dive/BigDive5/DataScience/PythonDataScience/lib/python2.7/site-packages/ipykernel/__main__.py:1: DeprecationWarning: update is deprecated. Use replace_one, update_one or update_many instead.\n",
      "  if __name__ == '__main__':\n"
     ]
    },
    {
     "data": {
      "text/plain": [
       "{u'n': 1, u'nModified': 1, u'ok': 1, 'updatedExisting': True}"
      ]
     },
     "execution_count": 55,
     "metadata": {},
     "output_type": "execute_result"
    }
   ],
   "source": [
    "col.update({'name': 'Alessandro'}, {'name': 'Giovanni'}) #changes one document from Alessandro to Giovanni"
   ]
  },
  {
   "cell_type": "code",
   "execution_count": 57,
   "metadata": {
    "collapsed": false
   },
   "outputs": [
    {
     "name": "stderr",
     "output_type": "stream",
     "text": [
      "/Users/adrianopagano/Desktop/Big_Dive/BigDive5/DataScience/PythonDataScience/lib/python2.7/site-packages/ipykernel/__main__.py:1: DeprecationWarning: update is deprecated. Use replace_one, update_one or update_many instead.\n",
      "  if __name__ == '__main__':\n"
     ]
    },
    {
     "data": {
      "text/plain": [
       "{u'n': 1, u'nModified': 1, u'ok': 1, 'updatedExisting': True}"
      ]
     },
     "execution_count": 57,
     "metadata": {},
     "output_type": "execute_result"
    }
   ],
   "source": [
    "col.update({'name': 'Alessandro'}, {'name': 'Giovanni'}) #changes all document from Alessandro to Giovanni"
   ]
  },
  {
   "cell_type": "markdown",
   "metadata": {},
   "source": [
    "### Updating the document replaces the whole original document"
   ]
  },
  {
   "cell_type": "code",
   "execution_count": 62,
   "metadata": {
    "collapsed": false
   },
   "outputs": [
    {
     "data": {
      "text/plain": [
       "{u'_id': ObjectId('575fd53c9d1fa214962baae1'),\n",
       " u'name': u'Giovanni',\n",
       " u'phone': u'+23244322'}"
      ]
     },
     "execution_count": 62,
     "metadata": {},
     "output_type": "execute_result"
    }
   ],
   "source": [
    "col.find_one({'name': 'Giovanni'}"
   ]
  },
  {
   "cell_type": "code",
   "execution_count": 59,
   "metadata": {
    "collapsed": false
   },
   "outputs": [
    {
     "data": {
      "text/plain": [
       "1"
      ]
     },
     "execution_count": 59,
     "metadata": {},
     "output_type": "execute_result"
    }
   ],
   "source": [
    "col.find({'name': 'Alessandro'}).count()"
   ]
  },
  {
   "cell_type": "code",
   "execution_count": 60,
   "metadata": {
    "collapsed": false
   },
   "outputs": [
    {
     "name": "stderr",
     "output_type": "stream",
     "text": [
      "/Users/adrianopagano/Desktop/Big_Dive/BigDive5/DataScience/PythonDataScience/lib/python2.7/site-packages/ipykernel/__main__.py:1: DeprecationWarning: update is deprecated. Use replace_one, update_one or update_many instead.\n",
      "  if __name__ == '__main__':\n"
     ]
    },
    {
     "data": {
      "text/plain": [
       "{u'n': 1, u'nModified': 1, u'ok': 1, 'updatedExisting': True}"
      ]
     },
     "execution_count": 60,
     "metadata": {},
     "output_type": "execute_result"
    }
   ],
   "source": [
    "col.update({'name': 'Giovanni'}, {'$set': {'phone': '+23244322'}}) #"
   ]
  },
  {
   "cell_type": "code",
   "execution_count": 64,
   "metadata": {
    "collapsed": false
   },
   "outputs": [
    {
     "data": {
      "text/plain": [
       "{u'_id': ObjectId('575fd53c9d1fa214962baae1'),\n",
       " u'name': u'Giovanni',\n",
       " u'phone': u'+23244322'}"
      ]
     },
     "execution_count": 64,
     "metadata": {},
     "output_type": "execute_result"
    }
   ],
   "source": [
    "col.find_one({'name': 'Giovanni'})"
   ]
  },
  {
   "cell_type": "code",
   "execution_count": 67,
   "metadata": {
    "collapsed": false
   },
   "outputs": [
    {
     "name": "stdout",
     "output_type": "stream",
     "text": [
      "{u'phone': 5, u'_id': ObjectId('575fd53c9d1fa214962baae1'), u'name': u'Giovanni'}\n"
     ]
    },
    {
     "name": "stderr",
     "output_type": "stream",
     "text": [
      "/Users/adrianopagano/Desktop/Big_Dive/BigDive5/DataScience/PythonDataScience/lib/python2.7/site-packages/ipykernel/__main__.py:3: DeprecationWarning: save is deprecated. Use insert_one or replace_one instead\n",
      "  app.launch_new_instance()\n"
     ]
    }
   ],
   "source": [
    "doc = col.find_one({'name': 'Giovanni'})\n",
    "doc['phone'] = 5\n",
    "col.save(doc)\n",
    "print doc"
   ]
  },
  {
   "cell_type": "markdown",
   "metadata": {},
   "source": [
    "### Here's how to update all doc"
   ]
  },
  {
   "cell_type": "code",
   "execution_count": 68,
   "metadata": {
    "collapsed": false
   },
   "outputs": [
    {
     "name": "stderr",
     "output_type": "stream",
     "text": [
      "/Users/adrianopagano/Desktop/Big_Dive/BigDive5/DataScience/PythonDataScience/lib/python2.7/site-packages/ipykernel/__main__.py:1: DeprecationWarning: update is deprecated. Use replace_one, update_one or update_many instead.\n",
      "  if __name__ == '__main__':\n"
     ]
    },
    {
     "data": {
      "text/plain": [
       "{u'n': 1, u'nModified': 1, u'ok': 1, 'updatedExisting': True}"
      ]
     },
     "execution_count": 68,
     "metadata": {},
     "output_type": "execute_result"
    }
   ],
   "source": [
    "col.update({'name': 'Alessandro'}, {'$set': {'name': 'Someone'}}, multi= True)"
   ]
  },
  {
   "cell_type": "code",
   "execution_count": 69,
   "metadata": {
    "collapsed": false
   },
   "outputs": [
    {
     "data": {
      "text/plain": [
       "[{u'_id': ObjectId('575fd53c9d1fa214962baae3'),\n",
       "  u'name': u'Someone',\n",
       "  u'phone': u'3'}]"
      ]
     },
     "execution_count": 69,
     "metadata": {},
     "output_type": "execute_result"
    }
   ],
   "source": [
    "list(col.find({'name': 'Someone'}))"
   ]
  },
  {
   "cell_type": "code",
   "execution_count": 71,
   "metadata": {
    "collapsed": false
   },
   "outputs": [
    {
     "name": "stderr",
     "output_type": "stream",
     "text": [
      "/Users/adrianopagano/Desktop/Big_Dive/BigDive5/DataScience/PythonDataScience/lib/python2.7/site-packages/ipykernel/__main__.py:11: DeprecationWarning: insert is deprecated. Use insert_one or insert_many instead.\n"
     ]
    },
    {
     "data": {
      "text/plain": [
       "ObjectId('575fd9c79d1fa214962baae4')"
      ]
     },
     "execution_count": 71,
     "metadata": {},
     "output_type": "execute_result"
    }
   ],
   "source": [
    "post = {\n",
    "    'title': 'First post',\n",
    "    'author':{\n",
    "        'name': 'Alessandro',\n",
    "        'surname': 'Molina',\n",
    "        'avatar': 'https://blog.madmimi.com/wp-content/uploads/2014/06/gary_gravatar.png'\n",
    "    },\n",
    "    'tags': ['mongodb', 'web', 'scaling']\n",
    "}\n",
    "\n",
    "db.blog.insert(post)"
   ]
  },
  {
   "cell_type": "code",
   "execution_count": 72,
   "metadata": {
    "collapsed": false
   },
   "outputs": [
    {
     "data": {
      "text/plain": [
       "{u'_id': ObjectId('575fd9c79d1fa214962baae4'),\n",
       " u'author': {u'avatar': u'https://blog.madmimi.com/wp-content/uploads/2014/06/gary_gravatar.png',\n",
       "  u'name': u'Alessandro',\n",
       "  u'surname': u'Molina'},\n",
       " u'tags': [u'mongodb', u'web', u'scaling'],\n",
       " u'title': u'First post'}"
      ]
     },
     "execution_count": 72,
     "metadata": {},
     "output_type": "execute_result"
    }
   ],
   "source": [
    "db.blog.find_one({'tags': 'mongodb'})"
   ]
  },
  {
   "cell_type": "code",
   "execution_count": 73,
   "metadata": {
    "collapsed": false
   },
   "outputs": [
    {
     "data": {
      "text/plain": [
       "{u'_id': ObjectId('575fd9c79d1fa214962baae4'),\n",
       " u'author': {u'avatar': u'https://blog.madmimi.com/wp-content/uploads/2014/06/gary_gravatar.png',\n",
       "  u'name': u'Alessandro',\n",
       "  u'surname': u'Molina'},\n",
       " u'tags': [u'mongodb', u'web', u'scaling'],\n",
       " u'title': u'First post'}"
      ]
     },
     "execution_count": 73,
     "metadata": {},
     "output_type": "execute_result"
    }
   ],
   "source": [
    "db.blog.find_one({'author.name': 'Alessandro'}) #query on subdocs"
   ]
  },
  {
   "cell_type": "code",
   "execution_count": 89,
   "metadata": {
    "collapsed": false
   },
   "outputs": [
    {
     "name": "stdout",
     "output_type": "stream",
     "text": [
      "{'y': 2, 'x': 1}\n"
     ]
    },
    {
     "name": "stderr",
     "output_type": "stream",
     "text": [
      "/Users/adrianopagano/Desktop/Big_Dive/BigDive5/DataScience/PythonDataScience/lib/python2.7/site-packages/ipykernel/__main__.py:8: DeprecationWarning: insert is deprecated. Use insert_one or insert_many instead.\n"
     ]
    },
    {
     "data": {
      "text/plain": [
       "ObjectId('575feaa99d1fa214962baae6')"
      ]
     },
     "execution_count": 89,
     "metadata": {},
     "output_type": "execute_result"
    }
   ],
   "source": [
    "class MyClass():\n",
    "    def __init__(self, x, y):\n",
    "        self.x = x\n",
    "        self.y = y\n",
    "\n",
    "c = MyClass(1,2)\n",
    "print c.__dict__\n",
    "db.blog.insert(c.__dict__)"
   ]
  },
  {
   "cell_type": "code",
   "execution_count": null,
   "metadata": {
    "collapsed": true
   },
   "outputs": [],
   "source": []
  }
 ],
 "metadata": {
  "kernelspec": {
   "display_name": "Python 2",
   "language": "python",
   "name": "python2"
  },
  "language_info": {
   "codemirror_mode": {
    "name": "ipython",
    "version": 2
   },
   "file_extension": ".py",
   "mimetype": "text/x-python",
   "name": "python",
   "nbconvert_exporter": "python",
   "pygments_lexer": "ipython2",
   "version": "2.7.10"
  }
 },
 "nbformat": 4,
 "nbformat_minor": 0
}
